{
 "cells": [
  {
   "cell_type": "code",
   "execution_count": 49,
   "metadata": {},
   "outputs": [
    {
     "data": {
      "text/plain": [
       "9×9 Array{Int64,2}:\n",
       " 0  1  0  0  0  0  1  0  0\n",
       " 1  0  0  1  0  0  0  0  1\n",
       " 0  0  0  0  1  1  0  0  0\n",
       " 0  1  0  0  0  0  0  0  0\n",
       " 0  0  1  0  0  0  0  0  0\n",
       " 0  0  1  0  0  0  0  0  0\n",
       " 1  0  0  0  0  0  0  1  0\n",
       " 0  0  0  0  0  0  1  0  0\n",
       " 0  1  0  0  0  0  0  0  0"
      ]
     },
     "execution_count": 49,
     "metadata": {},
     "output_type": "execute_result"
    }
   ],
   "source": [
    "x=[0 1 0 0 0 0 1 0 0;1 0 0 1 0 0 0 0 1;0 0 0 0 1 1 0 0 0;0 1 0 0 0 0 0 0 0;0 0 1 0 0 0 0 0 0;0 0 1 0 0 0 0 0 0;1 0 0 0 0 0 0 1 0;0 0 0 0 0 0 1 0 0;0 1 0 0 0 0 0 0 0]\n",
    "\n"
   ]
  },
  {
   "cell_type": "code",
   "execution_count": 50,
   "metadata": {},
   "outputs": [
    {
     "data": {
      "text/plain": [
       "9×9 Array{Int64,2}:\n",
       " 2  3  0  3  0  0  6  6   9\n",
       " 3  3  0  4  0  0  7  7  11\n",
       " 0  0  2  0  6  9  0  0   0\n",
       " 1  2  0  2  0  0  3  3   5\n",
       " 0  0  1  0  2  3  0  0   0\n",
       " 0  0  1  0  2  3  0  0   0\n",
       " 2  3  0  4  0  0  6  7  10\n",
       " 1  1  0  1  0  0  3  3   4\n",
       " 1  2  0  2  0  0  3  3   5"
      ]
     },
     "execution_count": 50,
     "metadata": {},
     "output_type": "execute_result"
    }
   ],
   "source": [
    "a = size(x)[1]\n",
    "for j in 1:a\n",
    "    for i in 1:a\n",
    "        if x[i,j] == 1\n",
    "            b = i\n",
    "            x[:,j] = x[:,j]+x[:,b]\n",
    "        else\n",
    "        end\n",
    "    end\n",
    "end\n",
    "x\n",
    "\n"
   ]
  },
  {
   "cell_type": "code",
   "execution_count": 51,
   "metadata": {},
   "outputs": [],
   "source": [
    "\n",
    "\n",
    "for j in 1:a\n",
    "    for i in 1:a\n",
    "        if x[i,j] > 1\n",
    "            x[i,j] = 1\n",
    "        else\n",
    "        end\n",
    "    end\n",
    "end\n",
    "\n"
   ]
  },
  {
   "cell_type": "code",
   "execution_count": 58,
   "metadata": {},
   "outputs": [
    {
     "data": {
      "text/plain": [
       "2-element Array{Int64,1}:\n",
       " 6\n",
       " 3"
      ]
     },
     "execution_count": 58,
     "metadata": {},
     "output_type": "execute_result"
    }
   ],
   "source": [
    "r = Int64[]\n",
    "for i in 1:a\n",
    "    y = sum(x[:,i])\n",
    "\n",
    "    push!(r,y)\n",
    "end\n",
    "u=unique(r)\n",
    "            "
   ]
  },
  {
   "cell_type": "code",
   "execution_count": 55,
   "metadata": {},
   "outputs": [
    {
     "ename": "MethodError",
     "evalue": "MethodError: no method matching findall(::Array{Int64,1}, ::Int64)\nClosest candidates are:\n  findall(!Matched::Base.Fix2{typeof(in),T} where T, ::Number) at array.jl:2026\n  findall(!Matched::Function, ::Number) at array.jl:2025\n  findall(!Matched::Function, ::Any) at array.jl:1967\n  ...",
     "output_type": "error",
     "traceback": [
      "MethodError: no method matching findall(::Array{Int64,1}, ::Int64)\nClosest candidates are:\n  findall(!Matched::Base.Fix2{typeof(in),T} where T, ::Number) at array.jl:2026\n  findall(!Matched::Function, ::Number) at array.jl:2025\n  findall(!Matched::Function, ::Any) at array.jl:1967\n  ...",
      "",
      "Stacktrace:",
      " [1] top-level scope at ./In[55]:4"
     ]
    }
   ],
   "source": []
  },
  {
   "cell_type": "code",
   "execution_count": null,
   "metadata": {},
   "outputs": [],
   "source": []
  }
 ],
 "metadata": {
  "kernelspec": {
   "display_name": "Julia 1.0.3",
   "language": "julia",
   "name": "julia-1.0"
  },
  "language_info": {
   "file_extension": ".jl",
   "mimetype": "application/julia",
   "name": "julia",
   "version": "1.0.3"
  }
 },
 "nbformat": 4,
 "nbformat_minor": 2
}
